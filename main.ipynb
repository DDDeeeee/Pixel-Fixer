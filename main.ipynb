{
 "cells": [
  {
   "cell_type": "code",
   "execution_count": 1,
   "id": "93bdf278",
   "metadata": {},
   "outputs": [
    {
     "name": "stdout",
     "output_type": "stream",
     "text": [
      "图像尺寸: 1920×1421, 帧数: 1\n",
      "使用的像素块大小: 5x5\n",
      "结果已保存至: 'img_output/Romain_Courtois_None_5_full.png'\n"
     ]
    }
   ],
   "source": [
    "import os\n",
    "import numpy as np\n",
    "import scipy.signal\n",
    "import scipy.ndimage\n",
    "from collections import Counter\n",
    "from PIL import Image, ImageSequence\n",
    "from pixel_fixer.process_pixel_art import *\n",
    "\n",
    "num_colors = None\n",
    "color_similarity_threshold=1\n",
    "input_file = 'Romain_Courtois.png'\n",
    "output_file = input_file.split('.')[0] + f'_{num_colors}.' + ('png' if input_file.split('.')[1] != 'gif' else 'gif')\n",
    "\n",
    "process_pixel_art(\n",
    "    image_path='img_input/' + input_file,\n",
    "    block_size=None, # None: 自动检测\n",
    "    output_path='img_output/' + output_file,\n",
    "    num_colors=num_colors,\n",
    "    color_similarity_threshold=color_similarity_threshold\n",
    ")"
   ]
  }
 ],
 "metadata": {
  "kernelspec": {
   "display_name": "rhe2",
   "language": "python",
   "name": "python3"
  },
  "language_info": {
   "codemirror_mode": {
    "name": "ipython",
    "version": 3
   },
   "file_extension": ".py",
   "mimetype": "text/x-python",
   "name": "python",
   "nbconvert_exporter": "python",
   "pygments_lexer": "ipython3",
   "version": "3.11.9"
  }
 },
 "nbformat": 4,
 "nbformat_minor": 5
}
